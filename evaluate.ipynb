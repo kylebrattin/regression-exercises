{
 "cells": [
  {
   "cell_type": "code",
   "execution_count": 9,
   "id": "9b641555-5dca-4299-947d-3506a3f283d4",
   "metadata": {
    "tags": []
   },
   "outputs": [],
   "source": [
    "import warnings\n",
    "warnings.filterwarnings(\"ignore\")\n",
    "\n",
    "import pandas as pd\n",
    "import numpy as np\n",
    "\n",
    "import matplotlib.pyplot as plt\n",
    "import seaborn as sns\n",
    "\n",
    "from sklearn.model_selection import train_test_split\n",
    "from scipy.stats import pearsonr, spearmanr\n",
    "\n",
    "from env import get_db_url\n",
    "import wrangle as w\n",
    "import prepare as p\n",
    "import matplotlib as mpl\n",
    "mpl.rcParams[\"axes.formatter.useoffset\"] = False\n",
    "#import sklearn mean_square_error\n",
    "from sklearn.metrics import mean_squared_error\n",
    "#import r2_score from sklearn\n",
    "from sklearn.metrics import r2_score\n",
    "import sklearn.preprocessing"
   ]
  },
  {
   "cell_type": "markdown",
   "id": "28b84e8f-e2ea-4b58-bf6f-b570b8a255f4",
   "metadata": {},
   "source": [
    "## 1.) Load your zillow dataset."
   ]
  },
  {
   "cell_type": "code",
   "execution_count": 10,
   "id": "d4be1e24-1ff1-478b-8c37-d87a7b01438e",
   "metadata": {
    "tags": []
   },
   "outputs": [],
   "source": [
    "df = w.get_zillow_2017\n",
    "df = w.wrangle_zillow()\n"
   ]
  },
  {
   "cell_type": "code",
   "execution_count": 11,
   "id": "7961d6b5-fffe-4bbf-8c11-0b1a6755b19a",
   "metadata": {
    "tags": []
   },
   "outputs": [
    {
     "ename": "AttributeError",
     "evalue": "'NoneType' object has no attribute 'drop'",
     "output_type": "error",
     "traceback": [
      "\u001b[0;31m---------------------------------------------------------------------------\u001b[0m",
      "\u001b[0;31mAttributeError\u001b[0m                            Traceback (most recent call last)",
      "Cell \u001b[0;32mIn[11], line 1\u001b[0m\n\u001b[0;32m----> 1\u001b[0m df \u001b[38;5;241m=\u001b[39m df\u001b[38;5;241m.\u001b[39mdrop(columns\u001b[38;5;241m=\u001b[39m[\u001b[38;5;124m'\u001b[39m\u001b[38;5;124mcounty\u001b[39m\u001b[38;5;124m'\u001b[39m])\n",
      "\u001b[0;31mAttributeError\u001b[0m: 'NoneType' object has no attribute 'drop'"
     ]
    }
   ],
   "source": [
    "df = df.drop(columns=['county'])"
   ]
  },
  {
   "cell_type": "code",
   "execution_count": 4,
   "id": "88faca7c-1d71-4670-9096-53b00add816c",
   "metadata": {
    "tags": []
   },
   "outputs": [
    {
     "data": {
      "text/html": [
       "<div>\n",
       "<style scoped>\n",
       "    .dataframe tbody tr th:only-of-type {\n",
       "        vertical-align: middle;\n",
       "    }\n",
       "\n",
       "    .dataframe tbody tr th {\n",
       "        vertical-align: top;\n",
       "    }\n",
       "\n",
       "    .dataframe thead th {\n",
       "        text-align: right;\n",
       "    }\n",
       "</style>\n",
       "<table border=\"1\" class=\"dataframe\">\n",
       "  <thead>\n",
       "    <tr style=\"text-align: right;\">\n",
       "      <th></th>\n",
       "      <th>bedrooms</th>\n",
       "      <th>bathrooms</th>\n",
       "      <th>finished_area</th>\n",
       "      <th>home_value</th>\n",
       "      <th>year_built</th>\n",
       "      <th>tax_amount</th>\n",
       "    </tr>\n",
       "  </thead>\n",
       "  <tbody>\n",
       "    <tr>\n",
       "      <th>4</th>\n",
       "      <td>4</td>\n",
       "      <td>2.0</td>\n",
       "      <td>3633</td>\n",
       "      <td>296425</td>\n",
       "      <td>2005</td>\n",
       "      <td>6941.39</td>\n",
       "    </tr>\n",
       "    <tr>\n",
       "      <th>6</th>\n",
       "      <td>3</td>\n",
       "      <td>4.0</td>\n",
       "      <td>1620</td>\n",
       "      <td>847770</td>\n",
       "      <td>2011</td>\n",
       "      <td>10244.94</td>\n",
       "    </tr>\n",
       "    <tr>\n",
       "      <th>7</th>\n",
       "      <td>3</td>\n",
       "      <td>2.0</td>\n",
       "      <td>2077</td>\n",
       "      <td>646760</td>\n",
       "      <td>1926</td>\n",
       "      <td>7924.68</td>\n",
       "    </tr>\n",
       "    <tr>\n",
       "      <th>11</th>\n",
       "      <td>0</td>\n",
       "      <td>0.0</td>\n",
       "      <td>1200</td>\n",
       "      <td>5328</td>\n",
       "      <td>1972</td>\n",
       "      <td>91.60</td>\n",
       "    </tr>\n",
       "    <tr>\n",
       "      <th>14</th>\n",
       "      <td>0</td>\n",
       "      <td>0.0</td>\n",
       "      <td>171</td>\n",
       "      <td>6920</td>\n",
       "      <td>1973</td>\n",
       "      <td>255.17</td>\n",
       "    </tr>\n",
       "  </tbody>\n",
       "</table>\n",
       "</div>"
      ],
      "text/plain": [
       "    bedrooms  bathrooms  finished_area  home_value  year_built  tax_amount\n",
       "4          4        2.0           3633      296425        2005     6941.39\n",
       "6          3        4.0           1620      847770        2011    10244.94\n",
       "7          3        2.0           2077      646760        1926     7924.68\n",
       "11         0        0.0           1200        5328        1972       91.60\n",
       "14         0        0.0            171        6920        1973      255.17"
      ]
     },
     "execution_count": 4,
     "metadata": {},
     "output_type": "execute_result"
    }
   ],
   "source": [
    "df.head()"
   ]
  },
  {
   "cell_type": "code",
   "execution_count": 5,
   "id": "26b258da-3d96-430b-81ca-5b159eeb7c6b",
   "metadata": {
    "tags": []
   },
   "outputs": [
    {
     "name": "stdout",
     "output_type": "stream",
     "text": [
      "Train: 0.5599997196569536\n",
      "Validate: 0.24000028034304643\n",
      "Test: 0.2\n"
     ]
    }
   ],
   "source": [
    "train, validate, test = w.split_continuous(df)"
   ]
  },
  {
   "cell_type": "markdown",
   "id": "e9eb8837-9bbe-4a86-824e-14fc3bb51d7d",
   "metadata": {},
   "source": [
    "## 2.) Fit a linear regression model (ordinary least squares) and compute yhat, predictions of taxvaluedollarcnt using only calculatedfinishedsqft."
   ]
  },
  {
   "cell_type": "code",
   "execution_count": 6,
   "id": "a05fae9d-6bd9-4711-89c8-0fbd1aef2746",
   "metadata": {
    "tags": []
   },
   "outputs": [
    {
     "data": {
      "text/html": [
       "<div>\n",
       "<style scoped>\n",
       "    .dataframe tbody tr th:only-of-type {\n",
       "        vertical-align: middle;\n",
       "    }\n",
       "\n",
       "    .dataframe tbody tr th {\n",
       "        vertical-align: top;\n",
       "    }\n",
       "\n",
       "    .dataframe thead th {\n",
       "        text-align: right;\n",
       "    }\n",
       "</style>\n",
       "<table border=\"1\" class=\"dataframe\">\n",
       "  <thead>\n",
       "    <tr style=\"text-align: right;\">\n",
       "      <th></th>\n",
       "      <th>finished_area</th>\n",
       "      <th>home_value</th>\n",
       "    </tr>\n",
       "  </thead>\n",
       "  <tbody>\n",
       "    <tr>\n",
       "      <th>1937068</th>\n",
       "      <td>2154</td>\n",
       "      <td>910679</td>\n",
       "    </tr>\n",
       "    <tr>\n",
       "      <th>1201703</th>\n",
       "      <td>1224</td>\n",
       "      <td>66845</td>\n",
       "    </tr>\n",
       "    <tr>\n",
       "      <th>751562</th>\n",
       "      <td>2358</td>\n",
       "      <td>247161</td>\n",
       "    </tr>\n",
       "    <tr>\n",
       "      <th>235077</th>\n",
       "      <td>1513</td>\n",
       "      <td>70917</td>\n",
       "    </tr>\n",
       "    <tr>\n",
       "      <th>1991181</th>\n",
       "      <td>2004</td>\n",
       "      <td>711410</td>\n",
       "    </tr>\n",
       "    <tr>\n",
       "      <th>...</th>\n",
       "      <td>...</td>\n",
       "      <td>...</td>\n",
       "    </tr>\n",
       "    <tr>\n",
       "      <th>1623860</th>\n",
       "      <td>1461</td>\n",
       "      <td>63411</td>\n",
       "    </tr>\n",
       "    <tr>\n",
       "      <th>632529</th>\n",
       "      <td>2546</td>\n",
       "      <td>472017</td>\n",
       "    </tr>\n",
       "    <tr>\n",
       "      <th>2013671</th>\n",
       "      <td>1195</td>\n",
       "      <td>234096</td>\n",
       "    </tr>\n",
       "    <tr>\n",
       "      <th>588048</th>\n",
       "      <td>1706</td>\n",
       "      <td>151008</td>\n",
       "    </tr>\n",
       "    <tr>\n",
       "      <th>1872760</th>\n",
       "      <td>1579</td>\n",
       "      <td>415534</td>\n",
       "    </tr>\n",
       "  </tbody>\n",
       "</table>\n",
       "<p>1198531 rows × 2 columns</p>\n",
       "</div>"
      ],
      "text/plain": [
       "         finished_area  home_value\n",
       "1937068           2154      910679\n",
       "1201703           1224       66845\n",
       "751562            2358      247161\n",
       "235077            1513       70917\n",
       "1991181           2004      711410\n",
       "...                ...         ...\n",
       "1623860           1461       63411\n",
       "632529            2546      472017\n",
       "2013671           1195      234096\n",
       "588048            1706      151008\n",
       "1872760           1579      415534\n",
       "\n",
       "[1198531 rows x 2 columns]"
      ]
     },
     "execution_count": 6,
     "metadata": {},
     "output_type": "execute_result"
    }
   ],
   "source": [
    "train.drop(columns=['bedrooms', 'bathrooms', 'year_built', 'tax_amount'])"
   ]
  },
  {
   "cell_type": "code",
   "execution_count": 7,
   "id": "d8d4b69d-fe82-4078-85ca-cef53748ad34",
   "metadata": {
    "tags": []
   },
   "outputs": [],
   "source": [
    "from sklearn.preprocessing import MinMaxScaler"
   ]
  },
  {
   "cell_type": "code",
   "execution_count": 8,
   "id": "92ee579e-31b0-49c6-acc0-296045de0c10",
   "metadata": {
    "tags": []
   },
   "outputs": [],
   "source": [
    "mms=MinMaxScaler()\n",
    "\n",
    "train['finished_area'] = mms.fit_transform(train[['finished_area']])"
   ]
  },
  {
   "cell_type": "code",
   "execution_count": 9,
   "id": "a74dd002-84e1-49c6-8549-3c6b0f313313",
   "metadata": {
    "tags": []
   },
   "outputs": [
    {
     "ename": "AttributeError",
     "evalue": "'DataFrame' object has no attribute 'tax_value'",
     "output_type": "error",
     "traceback": [
      "\u001b[0;31m---------------------------------------------------------------------------\u001b[0m",
      "\u001b[0;31mAttributeError\u001b[0m                            Traceback (most recent call last)",
      "Cell \u001b[0;32mIn[9], line 2\u001b[0m\n\u001b[1;32m      1\u001b[0m X_train \u001b[38;5;241m=\u001b[39m train[[\u001b[38;5;124m'\u001b[39m\u001b[38;5;124mfinished_area\u001b[39m\u001b[38;5;124m'\u001b[39m]]\n\u001b[0;32m----> 2\u001b[0m y_train \u001b[38;5;241m=\u001b[39m train\u001b[38;5;241m.\u001b[39mtax_value\n\u001b[1;32m      4\u001b[0m X_validate \u001b[38;5;241m=\u001b[39m validate[[\u001b[38;5;124m'\u001b[39m\u001b[38;5;124mfinished_area\u001b[39m\u001b[38;5;124m'\u001b[39m]]\n\u001b[1;32m      5\u001b[0m y_validate \u001b[38;5;241m=\u001b[39m validate\u001b[38;5;241m.\u001b[39mtax_value\n",
      "File \u001b[0;32m/opt/homebrew/anaconda3/lib/python3.11/site-packages/pandas/core/generic.py:5902\u001b[0m, in \u001b[0;36mNDFrame.__getattr__\u001b[0;34m(self, name)\u001b[0m\n\u001b[1;32m   5895\u001b[0m \u001b[38;5;28;01mif\u001b[39;00m (\n\u001b[1;32m   5896\u001b[0m     name \u001b[38;5;129;01mnot\u001b[39;00m \u001b[38;5;129;01min\u001b[39;00m \u001b[38;5;28mself\u001b[39m\u001b[38;5;241m.\u001b[39m_internal_names_set\n\u001b[1;32m   5897\u001b[0m     \u001b[38;5;129;01mand\u001b[39;00m name \u001b[38;5;129;01mnot\u001b[39;00m \u001b[38;5;129;01min\u001b[39;00m \u001b[38;5;28mself\u001b[39m\u001b[38;5;241m.\u001b[39m_metadata\n\u001b[1;32m   5898\u001b[0m     \u001b[38;5;129;01mand\u001b[39;00m name \u001b[38;5;129;01mnot\u001b[39;00m \u001b[38;5;129;01min\u001b[39;00m \u001b[38;5;28mself\u001b[39m\u001b[38;5;241m.\u001b[39m_accessors\n\u001b[1;32m   5899\u001b[0m     \u001b[38;5;129;01mand\u001b[39;00m \u001b[38;5;28mself\u001b[39m\u001b[38;5;241m.\u001b[39m_info_axis\u001b[38;5;241m.\u001b[39m_can_hold_identifiers_and_holds_name(name)\n\u001b[1;32m   5900\u001b[0m ):\n\u001b[1;32m   5901\u001b[0m     \u001b[38;5;28;01mreturn\u001b[39;00m \u001b[38;5;28mself\u001b[39m[name]\n\u001b[0;32m-> 5902\u001b[0m \u001b[38;5;28;01mreturn\u001b[39;00m \u001b[38;5;28mobject\u001b[39m\u001b[38;5;241m.\u001b[39m\u001b[38;5;21m__getattribute__\u001b[39m(\u001b[38;5;28mself\u001b[39m, name)\n",
      "\u001b[0;31mAttributeError\u001b[0m: 'DataFrame' object has no attribute 'tax_value'"
     ]
    }
   ],
   "source": [
    "X_train = train[['finished_area']]\n",
    "y_train = train.tax_value\n",
    "\n",
    "X_validate = validate[['finished_area']]\n",
    "y_validate = validate.tax_value\n",
    "\n",
    "X_test = test[['finished_area']]\n",
    "y_test = test.tax_value"
   ]
  },
  {
   "cell_type": "code",
   "execution_count": null,
   "id": "ffe44131-1ed9-4fbe-9bab-6025785281c8",
   "metadata": {},
   "outputs": [],
   "source": []
  }
 ],
 "metadata": {
  "kernelspec": {
   "display_name": "Python 3 (ipykernel)",
   "language": "python",
   "name": "python3"
  },
  "language_info": {
   "codemirror_mode": {
    "name": "ipython",
    "version": 3
   },
   "file_extension": ".py",
   "mimetype": "text/x-python",
   "name": "python",
   "nbconvert_exporter": "python",
   "pygments_lexer": "ipython3",
   "version": "3.11.4"
  }
 },
 "nbformat": 4,
 "nbformat_minor": 5
}

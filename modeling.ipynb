{
 "cells": [
  {
   "cell_type": "code",
   "execution_count": 2,
   "id": "8a6448d4-ed74-41ee-a234-980b36b5ff35",
   "metadata": {
    "tags": []
   },
   "outputs": [],
   "source": [
    "import pandas as pd\n",
    "import numpy as np\n",
    "import wrangle as w\n",
    "import matplotlib.pyplot as plt\n",
    "import seaborn as sns\n",
    "import env\n",
    "\n",
    "# modeling methods\n",
    "from sklearn.metrics import mean_squared_error\n",
    "from sklearn.linear_model import LinearRegression, LassoLars, TweedieRegressor\n",
    "from sklearn.preprocessing import PolynomialFeatures\n",
    "from sklearn.metrics import r2_score\n",
    "from sklearn.feature_selection import RFE, SelectKBest, f_regression\n",
    "import warnings\n",
    "warnings.filterwarnings(\"ignore\")\n",
    "\n",
    "from pydataset import data\n",
    "\n",
    "from sklearn.preprocessing import RobustScaler\n",
    "\n",
    "import matplotlib as mpl\n",
    "mpl.rcParams[\"axes.formatter.useoffset\"] = False"
   ]
  },
  {
   "cell_type": "markdown",
   "id": "d28bff6d-1b06-45d9-912e-5ec36fd882ef",
   "metadata": {
    "tags": []
   },
   "source": [
    "## 1.) Select a dataset with a continuous target variable."
   ]
  },
  {
   "cell_type": "code",
   "execution_count": 5,
   "id": "04dbcd00-9645-46ed-abd0-1b0a07a58667",
   "metadata": {
    "tags": []
   },
   "outputs": [],
   "source": [
    "df = w.get_zillow_2017()\n",
    "df = w.wrangle_zillow()"
   ]
  },
  {
   "cell_type": "code",
   "execution_count": 6,
   "id": "e87d25d0-ca3c-430e-87d5-3469eec50b29",
   "metadata": {
    "tags": []
   },
   "outputs": [
    {
     "data": {
      "text/html": [
       "<div>\n",
       "<style scoped>\n",
       "    .dataframe tbody tr th:only-of-type {\n",
       "        vertical-align: middle;\n",
       "    }\n",
       "\n",
       "    .dataframe tbody tr th {\n",
       "        vertical-align: top;\n",
       "    }\n",
       "\n",
       "    .dataframe thead th {\n",
       "        text-align: right;\n",
       "    }\n",
       "</style>\n",
       "<table border=\"1\" class=\"dataframe\">\n",
       "  <thead>\n",
       "    <tr style=\"text-align: right;\">\n",
       "      <th></th>\n",
       "      <th>Column Name</th>\n",
       "      <th>Number of Unique Values</th>\n",
       "      <th>Unique Values</th>\n",
       "      <th>Number of Null Values</th>\n",
       "      <th>Proportion of Null Values</th>\n",
       "      <th>dtype</th>\n",
       "    </tr>\n",
       "  </thead>\n",
       "  <tbody>\n",
       "    <tr>\n",
       "      <th>6</th>\n",
       "      <td>county</td>\n",
       "      <td>3</td>\n",
       "      <td>[LA, Orange, Ventura]</td>\n",
       "      <td>0</td>\n",
       "      <td>0.0</td>\n",
       "      <td>object</td>\n",
       "    </tr>\n",
       "    <tr>\n",
       "      <th>0</th>\n",
       "      <td>bedrooms</td>\n",
       "      <td>19</td>\n",
       "      <td>[4, 3, 0, 5, 2, 1, 6, 7, 8, 9, 25, 10, 11, 14, 15, 13, 12, 16, 18]</td>\n",
       "      <td>0</td>\n",
       "      <td>0.0</td>\n",
       "      <td>int64</td>\n",
       "    </tr>\n",
       "    <tr>\n",
       "      <th>1</th>\n",
       "      <td>bathrooms</td>\n",
       "      <td>38</td>\n",
       "      <td>[2.0, 4.0, 0.0, 1.0, 2.5, 3.5, 3.0, 5.5, 4.5, 5.0, 1.5, 7.5, 6.0, 10.0, 8.0, 7.0, 11.0...</td>\n",
       "      <td>0</td>\n",
       "      <td>0.0</td>\n",
       "      <td>float64</td>\n",
       "    </tr>\n",
       "    <tr>\n",
       "      <th>4</th>\n",
       "      <td>year_built</td>\n",
       "      <td>153</td>\n",
       "      <td>[2005, 2011, 1926, 1972, 1973, 1960, 1950, 1951, 2016, 2013, 2014, 2015, 2012, 1944, 1...</td>\n",
       "      <td>0</td>\n",
       "      <td>0.0</td>\n",
       "      <td>int64</td>\n",
       "    </tr>\n",
       "    <tr>\n",
       "      <th>2</th>\n",
       "      <td>finished_area</td>\n",
       "      <td>10557</td>\n",
       "      <td>[3633, 1620, 2077, 1200, 171, 203, 1244, 1300, 1222, 4144, 1821, 2684, 2284, 2342, 266...</td>\n",
       "      <td>0</td>\n",
       "      <td>0.0</td>\n",
       "      <td>int64</td>\n",
       "    </tr>\n",
       "    <tr>\n",
       "      <th>3</th>\n",
       "      <td>home_value</td>\n",
       "      <td>588178</td>\n",
       "      <td>[296425, 847770, 646760, 5328, 6920, 14166, 169471, 233266, 290492, 1303522, 537949, 6...</td>\n",
       "      <td>0</td>\n",
       "      <td>0.0</td>\n",
       "      <td>int64</td>\n",
       "    </tr>\n",
       "    <tr>\n",
       "      <th>5</th>\n",
       "      <td>tax_amount</td>\n",
       "      <td>915868</td>\n",
       "      <td>[6941.39, 10244.94, 7924.68, 91.6, 255.17, 163.79, 2532.88, 3110.99, 3870.25, 14820.1,...</td>\n",
       "      <td>0</td>\n",
       "      <td>0.0</td>\n",
       "      <td>float64</td>\n",
       "    </tr>\n",
       "  </tbody>\n",
       "</table>\n",
       "</div>"
      ],
      "text/plain": [
       "     Column Name  Number of Unique Values  \\\n",
       "6         county                        3   \n",
       "0       bedrooms                       19   \n",
       "1      bathrooms                       38   \n",
       "4     year_built                      153   \n",
       "2  finished_area                    10557   \n",
       "3     home_value                   588178   \n",
       "5     tax_amount                   915868   \n",
       "\n",
       "                                                                               Unique Values  \\\n",
       "6                                                                      [LA, Orange, Ventura]   \n",
       "0                         [4, 3, 0, 5, 2, 1, 6, 7, 8, 9, 25, 10, 11, 14, 15, 13, 12, 16, 18]   \n",
       "1  [2.0, 4.0, 0.0, 1.0, 2.5, 3.5, 3.0, 5.5, 4.5, 5.0, 1.5, 7.5, 6.0, 10.0, 8.0, 7.0, 11.0...   \n",
       "4  [2005, 2011, 1926, 1972, 1973, 1960, 1950, 1951, 2016, 2013, 2014, 2015, 2012, 1944, 1...   \n",
       "2  [3633, 1620, 2077, 1200, 171, 203, 1244, 1300, 1222, 4144, 1821, 2684, 2284, 2342, 266...   \n",
       "3  [296425, 847770, 646760, 5328, 6920, 14166, 169471, 233266, 290492, 1303522, 537949, 6...   \n",
       "5  [6941.39, 10244.94, 7924.68, 91.6, 255.17, 163.79, 2532.88, 3110.99, 3870.25, 14820.1,...   \n",
       "\n",
       "   Number of Null Values  Proportion of Null Values    dtype  \n",
       "6                      0                        0.0   object  \n",
       "0                      0                        0.0    int64  \n",
       "1                      0                        0.0  float64  \n",
       "4                      0                        0.0    int64  \n",
       "2                      0                        0.0    int64  \n",
       "3                      0                        0.0    int64  \n",
       "5                      0                        0.0  float64  "
      ]
     },
     "execution_count": 6,
     "metadata": {},
     "output_type": "execute_result"
    }
   ],
   "source": [
    "w.check_columns(df)"
   ]
  },
  {
   "cell_type": "code",
   "execution_count": 7,
   "id": "65fd5968-881a-418d-b2b8-8daa48b843ad",
   "metadata": {
    "tags": []
   },
   "outputs": [],
   "source": [
    "dummy_list = ['county']\n",
    "dummy_df = pd.get_dummies(df[dummy_list], dtype=int, drop_first=True)"
   ]
  },
  {
   "cell_type": "code",
   "execution_count": 8,
   "id": "6676b535-b68a-4076-b7bc-3273dfcfcb5f",
   "metadata": {
    "tags": []
   },
   "outputs": [],
   "source": [
    "df_prepd = pd.concat([df, dummy_df], axis=1)"
   ]
  },
  {
   "cell_type": "code",
   "execution_count": 9,
   "id": "1ed72f60-a06c-455c-b9b6-2e13c3166d6f",
   "metadata": {
    "tags": []
   },
   "outputs": [
    {
     "data": {
      "text/html": [
       "<div>\n",
       "<style scoped>\n",
       "    .dataframe tbody tr th:only-of-type {\n",
       "        vertical-align: middle;\n",
       "    }\n",
       "\n",
       "    .dataframe tbody tr th {\n",
       "        vertical-align: top;\n",
       "    }\n",
       "\n",
       "    .dataframe thead th {\n",
       "        text-align: right;\n",
       "    }\n",
       "</style>\n",
       "<table border=\"1\" class=\"dataframe\">\n",
       "  <thead>\n",
       "    <tr style=\"text-align: right;\">\n",
       "      <th></th>\n",
       "      <th>bedrooms</th>\n",
       "      <th>bathrooms</th>\n",
       "      <th>finished_area</th>\n",
       "      <th>home_value</th>\n",
       "      <th>year_built</th>\n",
       "      <th>tax_amount</th>\n",
       "      <th>county</th>\n",
       "      <th>county_Orange</th>\n",
       "      <th>county_Ventura</th>\n",
       "    </tr>\n",
       "  </thead>\n",
       "  <tbody>\n",
       "    <tr>\n",
       "      <th>4</th>\n",
       "      <td>4</td>\n",
       "      <td>2.0</td>\n",
       "      <td>3633</td>\n",
       "      <td>296425</td>\n",
       "      <td>2005</td>\n",
       "      <td>6941.39</td>\n",
       "      <td>LA</td>\n",
       "      <td>0</td>\n",
       "      <td>0</td>\n",
       "    </tr>\n",
       "    <tr>\n",
       "      <th>6</th>\n",
       "      <td>3</td>\n",
       "      <td>4.0</td>\n",
       "      <td>1620</td>\n",
       "      <td>847770</td>\n",
       "      <td>2011</td>\n",
       "      <td>10244.94</td>\n",
       "      <td>LA</td>\n",
       "      <td>0</td>\n",
       "      <td>0</td>\n",
       "    </tr>\n",
       "    <tr>\n",
       "      <th>7</th>\n",
       "      <td>3</td>\n",
       "      <td>2.0</td>\n",
       "      <td>2077</td>\n",
       "      <td>646760</td>\n",
       "      <td>1926</td>\n",
       "      <td>7924.68</td>\n",
       "      <td>LA</td>\n",
       "      <td>0</td>\n",
       "      <td>0</td>\n",
       "    </tr>\n",
       "    <tr>\n",
       "      <th>11</th>\n",
       "      <td>0</td>\n",
       "      <td>0.0</td>\n",
       "      <td>1200</td>\n",
       "      <td>5328</td>\n",
       "      <td>1972</td>\n",
       "      <td>91.60</td>\n",
       "      <td>LA</td>\n",
       "      <td>0</td>\n",
       "      <td>0</td>\n",
       "    </tr>\n",
       "    <tr>\n",
       "      <th>14</th>\n",
       "      <td>0</td>\n",
       "      <td>0.0</td>\n",
       "      <td>171</td>\n",
       "      <td>6920</td>\n",
       "      <td>1973</td>\n",
       "      <td>255.17</td>\n",
       "      <td>LA</td>\n",
       "      <td>0</td>\n",
       "      <td>0</td>\n",
       "    </tr>\n",
       "  </tbody>\n",
       "</table>\n",
       "</div>"
      ],
      "text/plain": [
       "    bedrooms  bathrooms  finished_area  home_value  year_built  tax_amount  \\\n",
       "4          4        2.0           3633      296425        2005     6941.39   \n",
       "6          3        4.0           1620      847770        2011    10244.94   \n",
       "7          3        2.0           2077      646760        1926     7924.68   \n",
       "11         0        0.0           1200        5328        1972       91.60   \n",
       "14         0        0.0            171        6920        1973      255.17   \n",
       "\n",
       "   county  county_Orange  county_Ventura  \n",
       "4      LA              0               0  \n",
       "6      LA              0               0  \n",
       "7      LA              0               0  \n",
       "11     LA              0               0  \n",
       "14     LA              0               0  "
      ]
     },
     "execution_count": 9,
     "metadata": {},
     "output_type": "execute_result"
    }
   ],
   "source": [
    "df_prepd.head()"
   ]
  },
  {
   "cell_type": "code",
   "execution_count": 10,
   "id": "d2cfe3cf-10e8-4870-b5a8-64599fbe1694",
   "metadata": {
    "tags": []
   },
   "outputs": [],
   "source": [
    "df_prepd.drop(columns=('county'), inplace=True)\n"
   ]
  },
  {
   "cell_type": "code",
   "execution_count": 11,
   "id": "1eca304a-f7b4-49d3-8390-760f3088e3a9",
   "metadata": {
    "tags": []
   },
   "outputs": [
    {
     "name": "stdout",
     "output_type": "stream",
     "text": [
      "Train: 0.5599997196569536\n",
      "Validate: 0.24000028034304643\n",
      "Test: 0.2\n"
     ]
    }
   ],
   "source": [
    "train, validate, test = w.split_continuous(df_prepd)"
   ]
  },
  {
   "cell_type": "markdown",
   "id": "ad87b20b-babd-4be5-a66b-bb6d16ef65d8",
   "metadata": {},
   "source": [
    "## 2. Be sure your data is prepared (no missing values, numeric datatypes) and split into samples.\n"
   ]
  },
  {
   "cell_type": "code",
   "execution_count": 12,
   "id": "eb52e470-8a3d-4f79-a922-b466af6ecc05",
   "metadata": {
    "tags": []
   },
   "outputs": [
    {
     "data": {
      "text/plain": [
       "(1198531, 8)"
      ]
     },
     "execution_count": 12,
     "metadata": {},
     "output_type": "execute_result"
    }
   ],
   "source": [
    "train.shape\n"
   ]
  },
  {
   "cell_type": "code",
   "execution_count": 13,
   "id": "746f0388-322c-42ad-9ddd-afd57818ddd8",
   "metadata": {
    "tags": []
   },
   "outputs": [
    {
     "data": {
      "text/html": [
       "<div>\n",
       "<style scoped>\n",
       "    .dataframe tbody tr th:only-of-type {\n",
       "        vertical-align: middle;\n",
       "    }\n",
       "\n",
       "    .dataframe tbody tr th {\n",
       "        vertical-align: top;\n",
       "    }\n",
       "\n",
       "    .dataframe thead th {\n",
       "        text-align: right;\n",
       "    }\n",
       "</style>\n",
       "<table border=\"1\" class=\"dataframe\">\n",
       "  <thead>\n",
       "    <tr style=\"text-align: right;\">\n",
       "      <th></th>\n",
       "      <th>bedrooms</th>\n",
       "      <th>bathrooms</th>\n",
       "      <th>finished_area</th>\n",
       "      <th>home_value</th>\n",
       "      <th>year_built</th>\n",
       "      <th>tax_amount</th>\n",
       "      <th>county_Orange</th>\n",
       "      <th>county_Ventura</th>\n",
       "    </tr>\n",
       "  </thead>\n",
       "  <tbody>\n",
       "    <tr>\n",
       "      <th>1937068</th>\n",
       "      <td>4</td>\n",
       "      <td>2.5</td>\n",
       "      <td>2154</td>\n",
       "      <td>910679</td>\n",
       "      <td>2001</td>\n",
       "      <td>11079.60</td>\n",
       "      <td>1</td>\n",
       "      <td>0</td>\n",
       "    </tr>\n",
       "    <tr>\n",
       "      <th>1201703</th>\n",
       "      <td>3</td>\n",
       "      <td>2.0</td>\n",
       "      <td>1224</td>\n",
       "      <td>66845</td>\n",
       "      <td>1952</td>\n",
       "      <td>1198.53</td>\n",
       "      <td>0</td>\n",
       "      <td>0</td>\n",
       "    </tr>\n",
       "    <tr>\n",
       "      <th>751562</th>\n",
       "      <td>4</td>\n",
       "      <td>3.0</td>\n",
       "      <td>2358</td>\n",
       "      <td>247161</td>\n",
       "      <td>1972</td>\n",
       "      <td>3060.88</td>\n",
       "      <td>1</td>\n",
       "      <td>0</td>\n",
       "    </tr>\n",
       "    <tr>\n",
       "      <th>235077</th>\n",
       "      <td>3</td>\n",
       "      <td>2.0</td>\n",
       "      <td>1513</td>\n",
       "      <td>70917</td>\n",
       "      <td>1965</td>\n",
       "      <td>1119.54</td>\n",
       "      <td>1</td>\n",
       "      <td>0</td>\n",
       "    </tr>\n",
       "    <tr>\n",
       "      <th>1991181</th>\n",
       "      <td>3</td>\n",
       "      <td>3.0</td>\n",
       "      <td>2004</td>\n",
       "      <td>711410</td>\n",
       "      <td>2005</td>\n",
       "      <td>7652.36</td>\n",
       "      <td>0</td>\n",
       "      <td>1</td>\n",
       "    </tr>\n",
       "  </tbody>\n",
       "</table>\n",
       "</div>"
      ],
      "text/plain": [
       "         bedrooms  bathrooms  finished_area  home_value  year_built  \\\n",
       "1937068         4        2.5           2154      910679        2001   \n",
       "1201703         3        2.0           1224       66845        1952   \n",
       "751562          4        3.0           2358      247161        1972   \n",
       "235077          3        2.0           1513       70917        1965   \n",
       "1991181         3        3.0           2004      711410        2005   \n",
       "\n",
       "         tax_amount  county_Orange  county_Ventura  \n",
       "1937068    11079.60              1               0  \n",
       "1201703     1198.53              0               0  \n",
       "751562      3060.88              1               0  \n",
       "235077      1119.54              1               0  \n",
       "1991181     7652.36              0               1  "
      ]
     },
     "execution_count": 13,
     "metadata": {},
     "output_type": "execute_result"
    }
   ],
   "source": [
    "train.head()"
   ]
  },
  {
   "cell_type": "code",
   "execution_count": 19,
   "id": "9a697eff-d6cd-45e6-b89e-f018695b81d1",
   "metadata": {
    "tags": []
   },
   "outputs": [],
   "source": [
    "# X and y splits to scale\n",
    "target = \"home_value\"\n",
    "\n",
    "X_train = train.drop(columns=[target])\n",
    "y_train = train[target]\n",
    "\n",
    "X_validate = validate.drop(columns=[target])\n",
    "y_validate = validate[target]\n",
    "\n",
    "X_test = test.drop(columns=[target])\n",
    "y_test = test[target]"
   ]
  },
  {
   "cell_type": "code",
   "execution_count": 20,
   "id": "255cf9b6-f8df-46dd-9518-b15ca34be8fc",
   "metadata": {
    "tags": []
   },
   "outputs": [],
   "source": [
    "scaler = RobustScaler()"
   ]
  },
  {
   "cell_type": "code",
   "execution_count": 21,
   "id": "9218aa5e-94cd-43e4-b655-c22489e822ca",
   "metadata": {
    "tags": []
   },
   "outputs": [
    {
     "data": {
      "text/html": [
       "<style>#sk-container-id-2 {color: black;}#sk-container-id-2 pre{padding: 0;}#sk-container-id-2 div.sk-toggleable {background-color: white;}#sk-container-id-2 label.sk-toggleable__label {cursor: pointer;display: block;width: 100%;margin-bottom: 0;padding: 0.3em;box-sizing: border-box;text-align: center;}#sk-container-id-2 label.sk-toggleable__label-arrow:before {content: \"▸\";float: left;margin-right: 0.25em;color: #696969;}#sk-container-id-2 label.sk-toggleable__label-arrow:hover:before {color: black;}#sk-container-id-2 div.sk-estimator:hover label.sk-toggleable__label-arrow:before {color: black;}#sk-container-id-2 div.sk-toggleable__content {max-height: 0;max-width: 0;overflow: hidden;text-align: left;background-color: #f0f8ff;}#sk-container-id-2 div.sk-toggleable__content pre {margin: 0.2em;color: black;border-radius: 0.25em;background-color: #f0f8ff;}#sk-container-id-2 input.sk-toggleable__control:checked~div.sk-toggleable__content {max-height: 200px;max-width: 100%;overflow: auto;}#sk-container-id-2 input.sk-toggleable__control:checked~label.sk-toggleable__label-arrow:before {content: \"▾\";}#sk-container-id-2 div.sk-estimator input.sk-toggleable__control:checked~label.sk-toggleable__label {background-color: #d4ebff;}#sk-container-id-2 div.sk-label input.sk-toggleable__control:checked~label.sk-toggleable__label {background-color: #d4ebff;}#sk-container-id-2 input.sk-hidden--visually {border: 0;clip: rect(1px 1px 1px 1px);clip: rect(1px, 1px, 1px, 1px);height: 1px;margin: -1px;overflow: hidden;padding: 0;position: absolute;width: 1px;}#sk-container-id-2 div.sk-estimator {font-family: monospace;background-color: #f0f8ff;border: 1px dotted black;border-radius: 0.25em;box-sizing: border-box;margin-bottom: 0.5em;}#sk-container-id-2 div.sk-estimator:hover {background-color: #d4ebff;}#sk-container-id-2 div.sk-parallel-item::after {content: \"\";width: 100%;border-bottom: 1px solid gray;flex-grow: 1;}#sk-container-id-2 div.sk-label:hover label.sk-toggleable__label {background-color: #d4ebff;}#sk-container-id-2 div.sk-serial::before {content: \"\";position: absolute;border-left: 1px solid gray;box-sizing: border-box;top: 0;bottom: 0;left: 50%;z-index: 0;}#sk-container-id-2 div.sk-serial {display: flex;flex-direction: column;align-items: center;background-color: white;padding-right: 0.2em;padding-left: 0.2em;position: relative;}#sk-container-id-2 div.sk-item {position: relative;z-index: 1;}#sk-container-id-2 div.sk-parallel {display: flex;align-items: stretch;justify-content: center;background-color: white;position: relative;}#sk-container-id-2 div.sk-item::before, #sk-container-id-2 div.sk-parallel-item::before {content: \"\";position: absolute;border-left: 1px solid gray;box-sizing: border-box;top: 0;bottom: 0;left: 50%;z-index: -1;}#sk-container-id-2 div.sk-parallel-item {display: flex;flex-direction: column;z-index: 1;position: relative;background-color: white;}#sk-container-id-2 div.sk-parallel-item:first-child::after {align-self: flex-end;width: 50%;}#sk-container-id-2 div.sk-parallel-item:last-child::after {align-self: flex-start;width: 50%;}#sk-container-id-2 div.sk-parallel-item:only-child::after {width: 0;}#sk-container-id-2 div.sk-dashed-wrapped {border: 1px dashed gray;margin: 0 0.4em 0.5em 0.4em;box-sizing: border-box;padding-bottom: 0.4em;background-color: white;}#sk-container-id-2 div.sk-label label {font-family: monospace;font-weight: bold;display: inline-block;line-height: 1.2em;}#sk-container-id-2 div.sk-label-container {text-align: center;}#sk-container-id-2 div.sk-container {/* jupyter's `normalize.less` sets `[hidden] { display: none; }` but bootstrap.min.css set `[hidden] { display: none !important; }` so we also need the `!important` here to be able to override the default hidden behavior on the sphinx rendered scikit-learn.org. See: https://github.com/scikit-learn/scikit-learn/issues/21755 */display: inline-block !important;position: relative;}#sk-container-id-2 div.sk-text-repr-fallback {display: none;}</style><div id=\"sk-container-id-2\" class=\"sk-top-container\"><div class=\"sk-text-repr-fallback\"><pre>RobustScaler()</pre><b>In a Jupyter environment, please rerun this cell to show the HTML representation or trust the notebook. <br />On GitHub, the HTML representation is unable to render, please try loading this page with nbviewer.org.</b></div><div class=\"sk-container\" hidden><div class=\"sk-item\"><div class=\"sk-estimator sk-toggleable\"><input class=\"sk-toggleable__control sk-hidden--visually\" id=\"sk-estimator-id-2\" type=\"checkbox\" checked><label for=\"sk-estimator-id-2\" class=\"sk-toggleable__label sk-toggleable__label-arrow\">RobustScaler</label><div class=\"sk-toggleable__content\"><pre>RobustScaler()</pre></div></div></div></div></div>"
      ],
      "text/plain": [
       "RobustScaler()"
      ]
     },
     "execution_count": 21,
     "metadata": {},
     "output_type": "execute_result"
    }
   ],
   "source": [
    "scaler.fit(X_train)"
   ]
  },
  {
   "cell_type": "code",
   "execution_count": 22,
   "id": "a2d370bf-1651-4aa2-885a-c7bef443c41c",
   "metadata": {
    "tags": []
   },
   "outputs": [],
   "source": [
    "#use it\n",
    "#make a new column within train\n",
    "#use 'transform' instead of 'predict'\n",
    "X_train_scaled = scaler.transform(X_train)\n",
    "X_validate_scaled = scaler.transform(X_validate)\n",
    "X_test_scaled = scaler.transform(X_test)"
   ]
  },
  {
   "cell_type": "code",
   "execution_count": 23,
   "id": "9138e525-9983-4ad9-8afe-92fb38ff087b",
   "metadata": {
    "tags": []
   },
   "outputs": [],
   "source": [
    "X_train_scaled = pd.DataFrame(X_train_scaled)"
   ]
  },
  {
   "cell_type": "code",
   "execution_count": 24,
   "id": "5a8aef62-33cd-426a-ac8b-eba26cbfee09",
   "metadata": {
    "tags": []
   },
   "outputs": [],
   "source": [
    "def rfe(X, y, num_feat):\n",
    "    lm = LinearRegression()\n",
    "\n",
    "    # create the rfe object, indicating the ML object (lm) and the number of features I want to end up with. \n",
    "    rfe = RFE(lm, n_features_to_select=num_feat)\n",
    "\n",
    "    # fit the data using RFE\n",
    "    rfe.fit(X,y)  \n",
    "\n",
    "    # get the mask of the columns selected\n",
    "    feature_mask = rfe.support_\n",
    "\n",
    "    # get list of the column names. \n",
    "    rfe_feature = X.iloc[:,feature_mask].columns.tolist()\n",
    "\n",
    "    print(f'The best {num_feat}  are {rfe_feature}')\n",
    "    return rfe_feature\n"
   ]
  },
  {
   "cell_type": "code",
   "execution_count": 25,
   "id": "e13a61d4-5ec8-4570-9870-162a2fd58057",
   "metadata": {
    "tags": []
   },
   "outputs": [],
   "source": [
    "#now let's put together everything we learned above and make a function to do all of those steps together\n",
    "def select_kbest(X, y, k=2):\n",
    "    '''\n",
    "    will take in two pandas objects:\n",
    "    X: a dataframe representing numerical independent features\n",
    "    y: a pandas Series representing a target variable\n",
    "    k: a keyword argument defaulted to 2 for the number of ideal features we elect to select\n",
    "    \n",
    "    return: a list of the selected features from the SelectKBest process\n",
    "    '''\n",
    "    kbest = SelectKBest(f_regression, k=k)\n",
    "    kbest.fit(X, y)\n",
    "    mask = kbest.get_support()\n",
    "    return X.columns[mask]\n"
   ]
  },
  {
   "cell_type": "code",
   "execution_count": 26,
   "id": "7e5c0f2a-2250-4095-98ff-1b59372bce29",
   "metadata": {
    "tags": []
   },
   "outputs": [
    {
     "data": {
      "text/plain": [
       "Index(['bedrooms', 'bathrooms', 'finished_area', 'tax_amount'], dtype='object')"
      ]
     },
     "execution_count": 26,
     "metadata": {},
     "output_type": "execute_result"
    }
   ],
   "source": [
    "select_kbest(X_train, y_train, 4)"
   ]
  },
  {
   "cell_type": "code",
   "execution_count": 27,
   "id": "4b0bda31-dfb2-412c-8710-f4e5479f47e3",
   "metadata": {
    "tags": []
   },
   "outputs": [
    {
     "name": "stdout",
     "output_type": "stream",
     "text": [
      "The best 4  are ['bedrooms', 'bathrooms', 'county_Orange', 'county_Ventura']\n"
     ]
    },
    {
     "data": {
      "text/plain": [
       "['bedrooms', 'bathrooms', 'county_Orange', 'county_Ventura']"
      ]
     },
     "execution_count": 27,
     "metadata": {},
     "output_type": "execute_result"
    }
   ],
   "source": [
    "rfe(X_train,y_train, 4)"
   ]
  },
  {
   "cell_type": "markdown",
   "id": "e66ecf2e-b80c-433d-9b8e-e404e78b7c53",
   "metadata": {},
   "source": [
    "## 3. Work through all of the steps outlined in the lesson, from setting the baseline to selected a model and evaluating the final model on your test data."
   ]
  },
  {
   "cell_type": "code",
   "execution_count": 28,
   "id": "f7e6ede4-64e6-4d9e-97ba-670cb4b4e1e0",
   "metadata": {
    "tags": []
   },
   "outputs": [
    {
     "data": {
      "text/plain": [
       "459636.36542400654"
      ]
     },
     "execution_count": 28,
     "metadata": {},
     "output_type": "execute_result"
    }
   ],
   "source": [
    "baseline = y_train.mean()\n",
    "baseline\n"
   ]
  },
  {
   "cell_type": "code",
   "execution_count": 29,
   "id": "25fd1c0e-3906-4541-b949-0491fcfce63b",
   "metadata": {
    "tags": []
   },
   "outputs": [],
   "source": [
    "def metrics_reg(y, yhat):\n",
    "    \"\"\"\n",
    "    send in y_true, y_pred & returns RMSE, R2\n",
    "    \"\"\"\n",
    "    rmse = mean_squared_error(y, yhat, squared=False)\n",
    "    r2 = r2_score(y, yhat)\n",
    "    return rmse, r2\n"
   ]
  },
  {
   "cell_type": "code",
   "execution_count": 30,
   "id": "ca011577-468e-4672-af12-6601f4ea2432",
   "metadata": {
    "tags": []
   },
   "outputs": [
    {
     "data": {
      "text/plain": [
       "array([459636.36542401, 459636.36542401, 459636.36542401, 459636.36542401,\n",
       "       459636.36542401])"
      ]
     },
     "execution_count": 30,
     "metadata": {},
     "output_type": "execute_result"
    }
   ],
   "source": [
    "baseline_array = np.repeat(baseline, len(X_train_scaled))\n",
    "baseline_array[:5]"
   ]
  },
  {
   "cell_type": "code",
   "execution_count": 31,
   "id": "7c59b189-248d-4800-aab6-96a8ad568173",
   "metadata": {
    "tags": []
   },
   "outputs": [
    {
     "data": {
      "text/plain": [
       "(676257.7795145244, 0.0)"
      ]
     },
     "execution_count": 31,
     "metadata": {},
     "output_type": "execute_result"
    }
   ],
   "source": [
    "rmse, r2 = metrics_reg(y_train, baseline_array)\n",
    "rmse, r2"
   ]
  },
  {
   "cell_type": "code",
   "execution_count": 32,
   "id": "42b38653-bcdb-4a58-bc8c-aa0ae3c45dce",
   "metadata": {
    "tags": []
   },
   "outputs": [
    {
     "data": {
      "text/html": [
       "<div>\n",
       "<style scoped>\n",
       "    .dataframe tbody tr th:only-of-type {\n",
       "        vertical-align: middle;\n",
       "    }\n",
       "\n",
       "    .dataframe tbody tr th {\n",
       "        vertical-align: top;\n",
       "    }\n",
       "\n",
       "    .dataframe thead th {\n",
       "        text-align: right;\n",
       "    }\n",
       "</style>\n",
       "<table border=\"1\" class=\"dataframe\">\n",
       "  <thead>\n",
       "    <tr style=\"text-align: right;\">\n",
       "      <th></th>\n",
       "      <th>model</th>\n",
       "      <th>rmse</th>\n",
       "      <th>r2</th>\n",
       "    </tr>\n",
       "  </thead>\n",
       "  <tbody>\n",
       "    <tr>\n",
       "      <th>0</th>\n",
       "      <td>baseline</td>\n",
       "      <td>676257.779515</td>\n",
       "      <td>0.0</td>\n",
       "    </tr>\n",
       "  </tbody>\n",
       "</table>\n",
       "</div>"
      ],
      "text/plain": [
       "      model           rmse   r2\n",
       "0  baseline  676257.779515  0.0"
      ]
     },
     "execution_count": 32,
     "metadata": {},
     "output_type": "execute_result"
    }
   ],
   "source": [
    "metrics_df = pd.DataFrame(data=[\n",
    "    {\n",
    "        'model':'baseline',\n",
    "        'rmse':rmse,\n",
    "        'r2':r2\n",
    "    }\n",
    "    \n",
    "])\n",
    "metrics_df"
   ]
  },
  {
   "cell_type": "code",
   "execution_count": 34,
   "id": "d14ba97e-51db-4f9b-bd06-b6523f9038af",
   "metadata": {
    "tags": []
   },
   "outputs": [],
   "source": [
    "#intial ML model\n",
    "lr1 = LinearRegression()\n",
    "\n",
    "#make it\n",
    "rfe = RFE(lr1, n_features_to_select=1)\n",
    "\n",
    "#fit it\n",
    "rfe.fit(X_train, y_train)\n",
    "\n",
    "#use it on train\n",
    "X_train_rfe = rfe.transform(X_train)\n",
    "\n",
    "#use it on validate\n",
    "X_val_rfe = rfe.transform(X_validate)\n"
   ]
  },
  {
   "cell_type": "code",
   "execution_count": null,
   "id": "f9772d7b-102a-4808-b19f-822bc46d8072",
   "metadata": {},
   "outputs": [],
   "source": []
  },
  {
   "cell_type": "code",
   "execution_count": null,
   "id": "53cf1197-2143-4571-997f-d62b549a94d8",
   "metadata": {},
   "outputs": [],
   "source": []
  },
  {
   "cell_type": "code",
   "execution_count": null,
   "id": "b05a7480-e4bb-4499-bf0a-df15f7554573",
   "metadata": {},
   "outputs": [],
   "source": []
  },
  {
   "cell_type": "code",
   "execution_count": null,
   "id": "e8757890-e0cb-47c0-936d-36eb6079f74a",
   "metadata": {},
   "outputs": [],
   "source": []
  },
  {
   "cell_type": "code",
   "execution_count": null,
   "id": "1aa65277-6e1a-4c49-bb25-213df13cc73d",
   "metadata": {},
   "outputs": [],
   "source": []
  },
  {
   "cell_type": "code",
   "execution_count": null,
   "id": "94c0aa7a-6803-4a2e-bbc7-54c3ef14d8e4",
   "metadata": {},
   "outputs": [],
   "source": []
  },
  {
   "cell_type": "code",
   "execution_count": null,
   "id": "39519471-690c-4ff5-b156-b8f7e18fcc0f",
   "metadata": {},
   "outputs": [],
   "source": []
  },
  {
   "cell_type": "code",
   "execution_count": null,
   "id": "2fe97520-1c68-4912-af97-24b117c2ef74",
   "metadata": {},
   "outputs": [],
   "source": []
  },
  {
   "cell_type": "code",
   "execution_count": null,
   "id": "977007f4-0968-4874-90e7-34679b413795",
   "metadata": {},
   "outputs": [],
   "source": []
  }
 ],
 "metadata": {
  "kernelspec": {
   "display_name": "Python 3 (ipykernel)",
   "language": "python",
   "name": "python3"
  },
  "language_info": {
   "codemirror_mode": {
    "name": "ipython",
    "version": 3
   },
   "file_extension": ".py",
   "mimetype": "text/x-python",
   "name": "python",
   "nbconvert_exporter": "python",
   "pygments_lexer": "ipython3",
   "version": "3.11.4"
  }
 },
 "nbformat": 4,
 "nbformat_minor": 5
}
